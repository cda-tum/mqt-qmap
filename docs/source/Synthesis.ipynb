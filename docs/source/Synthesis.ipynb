{
 "cells": [
  {
   "cell_type": "markdown",
   "metadata": {},
   "source": [
    "# Synthesis of Clifford Circuits\n",
    "\n",
    "Executing quantum circuits on a quantum computer requires compilation to representations that conform to all restrictions imposed by the device.\n",
    "Due to device's limited coherence times and gate fidelity, the compilation process has to be optimized as much as possible.\n",
    "To this end, an algorithm's description first has to be *synthesized* using the device's gate library.\n",
    "In addition, circuits have to be *mapped* to the target quantum device to satisfy its connectivity constraints.\n",
    "Even though Clifford circuits form a finite subgroup of all quantum circuits -- one that is not even universal for quantum computing -- the search space for these problems grows exponentially with respect to the number of considered qubits.\n",
    "\n",
    "The *Clifford synthesis approach* in QMAP can be used to produce optimal Clifford circuits based on the methods proposed in <cite data-cite=\"schneider2023satEncodingOptimalClifford\">A SAT Encoding for Optimal Clifford Circuit Synthesis</cite>.\n",
    "To this end, it encodes the underlying task as a satisfiability (SAT) problem and solves it using the [SMT solver Z3](https://github.com/Z3Prover/z3) in conjunction with a binary search scheme.\n",
    "\n",
    "The following gives a brief overview on Clifford circuits and how QMAP can be used for their synthesis."
   ]
  },
  {
   "cell_type": "markdown",
   "metadata": {},
   "source": [
    "## Clifford Circuits\n",
    "\n",
    "Clifford circuits, i.e., circuits generated from the set $\\{H, S, \\mathit{CNOT}\\}$, form an important subclass of quantum circuits.\n",
    "This is due to several factors\n",
    "\n",
    "- According to the Gottesman-Knill theorem, they can be simulated in polynomial time and space on classical computers using the *stabilizer* formalism.\n",
    "- They can be used to describe several quantum phenomena such as superposition, entanglement, superdense coding, and teleportation.\n",
    "- Many error correcting codes rely on them.\n",
    "\n",
    "Quantum states that can be obtained from the all-zero basis state $|0\\dots 0\\rangle$ by applying Clifford operations are called stabilizer states.\n",
    "The name originates from the fact that such a state is uniquely and efficiently described by the set of operators that generate the group of its stabilizers.\n",
    "Specifically, any *n*-qubit stabilizer state can be described by a set of *n* Pauli strings $\\pm P_{i,0}P_{i,1}P_{i,2}\\dots P_{i,n-1}$, with $P_{i,j}\\in\\{I, X, Y, Z\\}$ and $i, j\\in 0,\\dots, n-1$.\n",
    "Hence,two bits per qubit are needed to identify the Pauli operator, as well as one additional bit for the phase, which leads to a total of $n(2n+1)` bits needed to uniquely describe a particular stabilizer state.\n",
    "\n",
    "The stabilizer representation of a quantum state is conveniently described by a *tableau*:\n",
    "\n",
    "$$\n",
    "    \\begin{bmatrix}\n",
    "        x_{0,0}   & \\cdots & x_{0,n-1}   & z_{0,0}    & \\cdots & z_{0,n-1}   & r_0    \\\\\n",
    "        \\vdots    & \\ddots &  \\vdots         & \\vdots     & \\ddots &    \\vdots         & \\vdots \\\\\n",
    "        x_{n-1,0} & \\cdots & x_{n-1,n-1} & z_{n-1,0} & \\cdots & z_{n-1,n-1} & r_{n-1}  \\\\\n",
    "    \\end{bmatrix}\n",
    "$$\n",
    "\n",
    "Here, the binary variables $x_{ij}$ and $z_{ij}$ specify whether the Pauli term $P_{i,j}$ is $X$ or $Z$, respectively.\n",
    "Since $Y = iXZ$, setting $x_{ij} = z_{ij} = 1$ corresponds to $P_{i,j}=Y$.\n",
    "Finally, $r_i$ describes whether the generator has a negative phase.\n",
    "\n",
    "Consider the following quantum circuit:"
   ]
  },
  {
   "cell_type": "code",
   "execution_count": null,
   "metadata": {},
   "outputs": [],
   "source": [
    "from qiskit import QuantumCircuit\n",
    "\n",
    "qc = QuantumCircuit(2)\n",
    "qc.h(0)\n",
    "qc.cx(0, 1)\n",
    "qc.h(0)\n",
    "qc.h(1)\n",
    "\n",
    "qc.draw(output=\"mpl\")"
   ]
  },
  {
   "cell_type": "markdown",
   "metadata": {},
   "source": [
    "\n",
    "Then, the corresponding stabilizer tableau is\n",
    "\n",
    "        0 0 | 1 1 | 0\n",
    "        1 1 | 0 0 | 0\n",
    "\n",
    "which corresponds to the stabilizers"
   ]
  },
  {
   "cell_type": "code",
   "execution_count": null,
   "metadata": {},
   "outputs": [],
   "source": [
    "stabilizers = [\"+ZZ\", \"+XX\"]"
   ]
  },
  {
   "cell_type": "markdown",
   "metadata": {},
   "source": [
    "The stabilizer tableau does not fix a unitary operator uniquely. As stated above, the stabilizers only fix the state that is obtained by applying a unitary to the all-zero basis state. The following circuit also produces the same state as the one above:"
   ]
  },
  {
   "cell_type": "code",
   "execution_count": null,
   "metadata": {},
   "outputs": [],
   "source": [
    "from qiskit import QuantumCircuit\n",
    "\n",
    "qc_alt = QuantumCircuit(2)\n",
    "qc_alt.z(0)\n",
    "qc_alt.h(0)\n",
    "qc_alt.cx(0, 1)\n",
    "qc_alt.h(0)\n",
    "qc_alt.h(1)\n",
    "\n",
    "qc_alt.draw(output=\"mpl\")"
   ]
  },
  {
   "cell_type": "markdown",
   "metadata": {},
   "source": [
    "But the first circuit has the unitary \n",
    "$$\\frac{1}{\\sqrt{2}}\\begin{bmatrix}1&0&1&0\\\\0&1&0&1\\\\0&1&0&-1\\\\1&0&-1&0\\end{bmatrix}$$\n",
    "whereas the second circuit has the unitary\n",
    "$$\\frac{1}{\\sqrt{2}}\\begin{bmatrix}1&0&1&0\\\\0&-1&0&-1\\\\0&-1&0&1\\\\1&0&-1&0\\end{bmatrix}$$\n",
    "\n",
    "To fix the unitary one needs to also take the *destabilizers* into account. The destabilizers are also Pauli strings that together with the stabilizers generate the entire Pauli group. \n",
    "\n",
    "The destabilizers of the first circuit are"
   ]
  },
  {
   "cell_type": "code",
   "execution_count": null,
   "metadata": {},
   "outputs": [],
   "source": [
    "destabilizers = [\"+IX\", \"+ZI\"]"
   ]
  },
  {
   "cell_type": "markdown",
   "metadata": {},
   "source": [
    "The destabilizers of the second circuit are"
   ]
  },
  {
   "cell_type": "code",
   "execution_count": null,
   "metadata": {},
   "outputs": [],
   "source": [
    "destabilizers_alt = [\"-IX\", \"+ZI\"]"
   ]
  },
  {
   "cell_type": "markdown",
   "metadata": {},
   "source": [
    "## Using QMAP for Optimal Synthesis\n",
    "\n",
    "*QMAP* can be used in a multitude of ways to efficiently synthesize Clifford circuits:\n",
    "\n",
    "### Starting from an initial circuit `qc`"
   ]
  },
  {
   "cell_type": "code",
   "execution_count": null,
   "metadata": {},
   "outputs": [],
   "source": [
    "from qiskit import QuantumCircuit\n",
    "from mqt import qmap\n",
    "\n",
    "qc = QuantumCircuit(2)\n",
    "qc.h(0)\n",
    "qc.cx(0, 1)\n",
    "qc.h(0)\n",
    "qc.h(1)\n",
    "\n",
    "qc_opt, results = qmap.optimize_clifford(circuit=qc, use_maxsat=True, include_destabilizers=True)\n",
    "\n",
    "qc_opt.draw(output=\"mpl\")"
   ]
  },
  {
   "cell_type": "markdown",
   "metadata": {},
   "source": [
    "The `include_destabilizers` flag guarantees that the unitary of the circuit is preserved during optimization."
   ]
  },
  {
   "cell_type": "markdown",
   "metadata": {},
   "source": [
    "### Starting from a functional description"
   ]
  },
  {
   "cell_type": "code",
   "execution_count": null,
   "metadata": {},
   "outputs": [],
   "source": [
    "from mqt import qmap\n",
    "\n",
    "tableau = qmap.Tableau(\"['+ZZ', '+XX']\")\n",
    "qc_synth, results = qmap.synthesize_clifford(tableau)\n",
    "\n",
    "qc_synth.draw(output=\"mpl\")"
   ]
  },
  {
   "cell_type": "markdown",
   "metadata": {},
   "source": [
    "\n",
    "The synthesis method offers lots of configuration options to fine-tune the synthesis procedure, e.g., changing the target metric.\n",
    "\n",
    "Check out the [reference documentation](library/Synthesis.rst) for more information."
   ]
  }
 ],
 "metadata": {
  "kernelspec": {
   "display_name": "Python 3 (ipykernel)",
   "language": "python",
   "name": "python3"
  },
  "language_info": {
   "codemirror_mode": {
    "name": "ipython",
    "version": 3
   },
   "file_extension": ".py",
   "mimetype": "text/x-python",
   "name": "python",
   "nbconvert_exporter": "python",
   "pygments_lexer": "ipython3"
  }
 },
 "nbformat": 4,
 "nbformat_minor": 4
}
