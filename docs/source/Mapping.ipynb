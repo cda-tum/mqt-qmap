{
 "cells": [
  {
   "cell_type": "markdown",
   "metadata": {},
   "source": [
    "<style>.widget-subarea{display:none;} /*hide widgets as they do not work with sphinx*/</style>\n",
    "\n",
    "# Quantum Circuit Mapping\n",
    "\n",
    "Many quantum computing architectures limit the pairs of qubits that two-qubit operations can be applied to.\n",
    "This is commonly described by a device's *coupling map*.\n",
    "To execute a generic quantum circuit (with arbitrary interactions between its qubits) on such an architecture, the circuit needs to be *mapped*.\n",
    "This involves *qubit allocation*, where logical qubits are assigned to physical qubits in an *initial layout*, and *routing*, where the original circuit is augmented with SWAP gates such that it adheres to the target device's *coupling map*.\n",
    "\n",
    "Consider the following circuit."
   ]
  },
  {
   "cell_type": "code",
   "execution_count": null,
   "metadata": {},
   "outputs": [],
   "source": [
    "from qiskit import QuantumCircuit\n",
    "\n",
    "qc = QuantumCircuit(4)\n",
    "qc.h(0)\n",
    "qc.cx(0, 1)\n",
    "qc.cx(0, 2)\n",
    "qc.cx(0, 3)\n",
    "\n",
    "qc.barrier()\n",
    "\n",
    "qc.t(0)\n",
    "qc.t(1)\n",
    "qc.t(2)\n",
    "qc.t(3)\n",
    "\n",
    "qc.barrier()\n",
    "\n",
    "qc.cx(0, 3)\n",
    "qc.cx(0, 2)\n",
    "qc.cx(0, 1)\n",
    "\n",
    "qc.measure_all()\n",
    "\n",
    "qc.draw(output=\"mpl\")"
   ]
  },
  {
   "cell_type": "markdown",
   "metadata": {},
   "source": [
    "Now assume this circuit shall be mapped to a $4$-qubit architecture defined by the following coupling map:\n",
    "\n",
    "![Linear 4-qubit Architecture](images/linear_arch.svg)\n",
    "\n",
    "In *QMAP* this architecture can be manually defined as follows."
   ]
  },
  {
   "cell_type": "code",
   "execution_count": null,
   "metadata": {},
   "outputs": [],
   "source": [
    "from mqt import qmap\n",
    "\n",
    "arch = qmap.Architecture(\n",
    "    4,\n",
    "    {\n",
    "        (0, 1),\n",
    "        (1, 0),\n",
    "        (1, 2),\n",
    "        (2, 1),\n",
    "        (2, 3),\n",
    "        (3, 2),\n",
    "    },\n",
    ")"
   ]
  },
  {
   "cell_type": "markdown",
   "metadata": {},
   "source": [
    "The quantum circuit `qc` can not be run directly on this architecture since it contains gates that act on qubits not connected on the device architecture.\n",
    "Naively inserting SWAP gates that permute the logical-to-physical qubit mapping on the fly may yield the following compiled circuit.\n",
    "\n",
    "```bash\n",
    "                      ┌───┐                      ░ ┌───┐ ░                       ░ ┌─┐\n",
    "          q_0 -> q_0: ┤ H ├──■───X───────────────░─┤ T ├─░───────────────X───■───░─┤M├─────────\n",
    "                      └───┘┌─┴─┐ │               ░ ├───┤ ░               │ ┌─┴─┐ ░ └╥┘┌─┐\n",
    "          q_1 -> q_1: ─────┤ X ├─X───■───X───────░─┤ T ├─░───────X───■───X─┤ X ├─░──╫─┤M├──────\n",
    "                           └───┘   ┌─┴─┐ │       ░ ├───┤ ░       │ ┌─┴─┐   └───┘ ░  ║ └╥┘┌─┐\n",
    "          q_2 -> q_2: ─────────────┤ X ├─X───■───░─┤ T ├─░───■───X─┤ X ├─────────░──╫──╫─┤M├───\n",
    "                                   └───┘   ┌─┴─┐ ░ ├───┤ ░ ┌─┴─┐   └───┘         ░  ║  ║ └╥┘┌─┐\n",
    "          q_3 -> q_3: ─────────────────────┤ X ├─░─┤ T ├─░─┤ X ├─────────────────░──╫──╫──╫─┤M├\n",
    "                                           └───┘ ░ └───┘ ░ └───┘                 ░  ║  ║  ║ └╥┘\n",
    "              meas: 4/══════════════════════════════════════════════════════════════╩══╩══╩══╩═\n",
    "                                                                                    0  1  2  3\n",
    "```\n",
    "\n",
    "Over the course of the mapping, *four* SWAP gates have been introduced to satisfy the connectivity constraints of the device's architecture.\n",
    "Since every additional gate increases the probability of errors, this is a very costly overhead for such a small circuit.\n",
    "\n",
    "Keeping the number of additionally introduced gates as small as possible is key for ensuring the successful execution of the quantum circuit. Finding an optimal mapping for a quantum circuit is an NP-hard problem <cite data-cite=\"boteaComplexityQuantumCircuit2018\">Botea et al.</cite>.\n",
    "*QMAP* offers two dedicated techniques for tackling that problem:\n",
    "- An *exact* mapping approach (based on <cite data-cite=\"willeMappingQuantumCircuits2019\">Wille et al.</cite>, <cite data-cite=\"burgholzer2022limitingSearchSpace\">Burgholzer et al.</cite>) that guarantees (gate-optimal) solutions and is typically suitable for up to 8 qubits.\n",
    "- A *heuristic* mapping approach (based on <cite data-cite=\"zulehnerEfficientMethodologyMapping2019\">Zulehner et al.</cite>, <cite data-cite=\"hillmichExlpoitingQuantumTeleportation2021\">Hillmich et al.</cite>) that allows to determine efficient mapping solutions in a scalable fashion for up to hundreds of qubits."
   ]
  },
  {
   "cell_type": "markdown",
   "metadata": {},
   "source": [
    "## Exact Mapping\n",
    "\n",
    "The *exact mapper* implemented in *QMAP* maps quantum circuits using the *minimal* number of SWAP gates.\n",
    "To this end, it encodes the mapping task as a MaxSAT problem and subsequently solves it using the [SMT solver Z3](https://github.com/Z3Prover/z3). Due to the NP-hardness of the mapping task, this approach is only scalable up to roughly eight qubits in most scenarios.\n",
    "\n",
    "<div class=\"alert alert-info\">\n",
    "\n",
    "Note\n",
    "\n",
    "On directional architectures, it can be significantly cheaper to surround a CNOT gate with four Hadamard operations (effectively exchanging its control and target) instead of adding a SWAP gate. For these architectures, QMAP minimizes the number of additional SWAP and H gates.\n",
    "</div>\n",
    "\n",
    "Using the exact mapper is as simple as:\n"
   ]
  },
  {
   "cell_type": "code",
   "execution_count": null,
   "metadata": {},
   "outputs": [],
   "source": [
    "qc_mapped, res = qmap.compile(qc, arch, method=\"exact\", post_mapping_optimizations=False)\n",
    "\n",
    "qc_mapped.draw(output=\"mpl\")"
   ]
  },
  {
   "cell_type": "code",
   "execution_count": null,
   "metadata": {},
   "outputs": [],
   "source": [
    "print(f\"Additional SWAPs: {res.output.swaps}\")\n",
    "print(f\"Runtime:          {res.time:f}\")"
   ]
  },
  {
   "cell_type": "markdown",
   "metadata": {},
   "source": [
    "The resulting solution only requires *two* SWAP gates for mapping the circuit.\n",
    "\n",
    "<div class=\"alert alert-info\">\n",
    "\n",
    "Note\n",
    "\n",
    "The exact mapping method implemented in QMAP is optimal with respect to the number of additional SWAP gates needed for mapping a given circuit.\n",
    "It is not guaranteed to be optimal with respect to the number of additional gates needed for mapping a given circuit, e.g., any sequence of a SWAP gate and a CNOT gate acting on the same qubits can be simplified to just two CNOT gates.\n",
    "Such an optimization pass is conducted by default in the `compile` method after the circuit has been mapped.\n",
    "However, this cost reduction is not accounted for in the SAT formulation at the moment.\n",
    "</div>"
   ]
  },
  {
   "cell_type": "markdown",
   "metadata": {},
   "source": [
    "## Heuristic Mapping\n",
    "\n",
    "The *heuristic mapper* implemented in *QMAP* uses A\\*-search to efficiently traverse the immense search space of the mapping problem.\n",
    "It effectively trades optimality for runtime.\n",
    "This allows to reliably determine suitable mappings for circuits with up to hundreds of qubits.\n",
    "Using the heuristic mapper works completely analogous to the exact mapper."
   ]
  },
  {
   "cell_type": "code",
   "execution_count": null,
   "metadata": {},
   "outputs": [],
   "source": [
    "qc_mapped, res = qmap.compile(qc, arch, method=\"heuristic\", post_mapping_optimizations=False)\n",
    "\n",
    "qc_mapped.draw(output=\"mpl\")"
   ]
  },
  {
   "cell_type": "code",
   "execution_count": null,
   "metadata": {},
   "outputs": [],
   "source": [
    "print(f\"Additional SWAPs: {res.output.swaps}\")\n",
    "print(f\"Runtime:          {res.time:f}\")"
   ]
  },
  {
   "cell_type": "markdown",
   "metadata": {},
   "source": [
    "While this solution is not optimal anymore it only requires one more SWAP gate and even for such a small example the heuristic mapper is orders of magnitudes faster than the exact mapper.\n"
   ]
  },
  {
   "cell_type": "markdown",
   "metadata": {},
   "source": [
    "### Teleportation in Heuristic Mapping\n",
    "\n",
    "Using quantum teleportation can reduce the number of swap gates when the algorithm requires fewer qubits than the architecture has available.\n",
    "In that case, the spare qubits are initialized in a Bell state and used as \"teleportation channel\" when suitable later in the quantum circuit.\n",
    "\n",
    "Below you find an illustration of the circuitry for teleportation, i.e., setting up the Bell state, initializing the teleportation, and subsequent measurements to correct possible bit- and phase flips.\n",
    "\n",
    "\n",
    "```\n",
    "                                            ░      ┌───┐ ░ ┌─┐    ░\n",
    "                        |ψ⟩ q_0: ───────────░───■──┤ H ├─░─┤M├────░─────────────── |0⟩ or |1⟩\n",
    "                                 ┌───┐      ░ ┌─┴─┐└───┘ ░ └╥┘┌─┐ ░\n",
    "                        |0⟩ a_0: ┤ H ├──■───░─┤ X ├──────░──╫─┤M├─░─────────────── |0⟩ or |1⟩\n",
    "                                 └───┘┌─┴─┐ ░ └───┘      ░  ║ └╥┘ ░  ┌───┐  ┌───┐\n",
    "                        |0⟩ a_1: ─────┤ X ├─░────────────░──╫──╫──░──┤ X ├──┤ Z ├─ |ψ⟩\n",
    "                                      └───┘ ░            ░  ║  ║  ░  └─┬─┘  └─┬─┘\n",
    "                                                            ║  ║    ┌──┴──┐   │\n",
    "                      bitflip: 1/═══════════════════════════╩══╬════╡ = 1 ╞═══╪═══\n",
    "                                                            0  ║    └─────┘┌──┴──┐\n",
    "                    phaseflip: 1/══════════════════════════════╩═══════════╡ = 1 ╞\n",
    "                                                               0           └─────┘\n",
    "```\n",
    "\n",
    "The following cell contains a brief demonstration on how teleportation can be used in a linear coupling map."
   ]
  },
  {
   "cell_type": "code",
   "execution_count": null,
   "metadata": {},
   "outputs": [],
   "source": [
    "from mqt import qmap\n",
    "\n",
    "arch = qmap.Architecture(\n",
    "    6,\n",
    "    {\n",
    "        (0, 1),\n",
    "        (1, 0),\n",
    "        (1, 2),\n",
    "        (2, 1),\n",
    "        (2, 3),\n",
    "        (3, 2),\n",
    "        (3, 4),\n",
    "        (4, 3),\n",
    "        (4, 5),\n",
    "        (5, 4),\n",
    "    },\n",
    ")\n",
    "\n",
    "qc_mapped_w_teleport, res = qmap.compile(qc, arch, method=\"heuristic\", use_teleportation=True, teleportation_seed=2)\n",
    "\n",
    "qc_mapped_w_teleport.draw(output=\"mpl\")"
   ]
  },
  {
   "cell_type": "markdown",
   "metadata": {},
   "source": [
    "### Visualizing search graphs\n",
    "\n",
    "For deeper insight into a specific mapping process one can visualize the search graphs generated during heuristic mapping."
   ]
  },
  {
   "cell_type": "code",
   "execution_count": null,
   "metadata": {},
   "outputs": [],
   "source": [
    "from mqt.qmap import compile  # noqa: A004\n",
    "from mqt.qmap.visualization import SearchVisualizer\n",
    "\n",
    "visualizer = SearchVisualizer()\n",
    "qc_mapped, res = compile(qc, arch, method=\"heuristic\", visualizer=visualizer)\n",
    "visualizer.visualize_search_graph()"
   ]
  },
  {
   "cell_type": "markdown",
   "metadata": {},
   "source": [
    "There exist a wide range of customizations for these visualizations. Please refer to the [reference documentation](library/Visualization.rst) for more information."
   ]
  }
 ],
 "metadata": {
  "kernelspec": {
   "display_name": "Python 3 (ipykernel)",
   "language": "python",
   "name": "python3"
  },
  "language_info": {
   "codemirror_mode": {
    "name": "ipython",
    "version": 3
   },
   "file_extension": ".py",
   "mimetype": "text/x-python",
   "name": "python",
   "nbconvert_exporter": "python",
   "pygments_lexer": "ipython3"
  }
 },
 "nbformat": 4,
 "nbformat_minor": 1
}
