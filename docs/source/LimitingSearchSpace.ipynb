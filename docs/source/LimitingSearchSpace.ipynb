{
 "cells": [
  {
   "attachments": {},
   "cell_type": "markdown",
   "metadata": {},
   "source": [
    "# Limiting the Search Space\n",
    "\n",
    "Many quantum computing architectures limit the pairs of qubits that two-qubit operations can be applied to.\n",
    "This is commonly described by a device's *coupling map*.\n",
    "To further speed up the mapping process, there are several ways to limit the pairs of qubits that need to be considered, in ways of limiting the whole search space for the exact mapping problem.\n",
    "\n",
    "Consider the following circuit."
   ]
  },
  {
   "cell_type": "code",
   "execution_count": null,
   "metadata": {},
   "outputs": [],
   "source": [
    "from qiskit import QuantumCircuit\n",
    "\n",
    "qc = QuantumCircuit(4)\n",
    "qc.h(0)\n",
    "qc.cx(0, 1)\n",
    "qc.cx(0, 2)\n",
    "qc.cx(0, 3)\n",
    "\n",
    "qc.barrier()\n",
    "\n",
    "qc.t(0)\n",
    "qc.t(1)\n",
    "qc.t(2)\n",
    "qc.t(3)\n",
    "\n",
    "qc.barrier()\n",
    "\n",
    "qc.cx(0, 3)\n",
    "qc.cx(0, 2)\n",
    "qc.cx(0, 1)\n",
    "\n",
    "qc.measure_all()\n",
    "\n",
    "qc.draw(output=\"mpl\")"
   ]
  },
  {
   "attachments": {},
   "cell_type": "markdown",
   "metadata": {},
   "source": [
    "Now assume this circuit shall be mapped to a $4$-qubit architecture defined by the following coupling map:\n",
    "\n",
    "![Linear 4-qubit Architecture](images/linear_arch.svg)\n",
    "\n",
    "In *QMAP* this architecture can be manually defined as described in the Mapping section.\n",
    "\n",
    "Instead we look now at the cayley graph, especially the reduced cayley graph that can be generated from the series of swaps possible on an architecture.\n",
    "\n",
    "![Reduced Cayley graph](images/cayley.png)\n",
    "\n",
    "Instead of considering all possible SWAP-configurations in the Cayley, only those that are not greyed out need to be considered. \n",
    "\n",
    "Using the search space limitations is as simple as:"
   ]
  },
  {
   "cell_type": "code",
   "execution_count": null,
   "metadata": {},
   "outputs": [],
   "source": [
   "from mqt import qmap\n",
       "\n",
       "arch = qmap.Architecture(\n",
       "    4,\n",
       "    {\n",
       "        (0, 1),\n",
       "        (1, 0),\n",
       "        (1, 2),\n",
       "        (2, 1),\n",
       "        (2, 3),\n",
       "        (3, 2),\n",
       "    },\n",
       ")",
    "qc_mapped, res = qmap.compile(\n",
    "    qc, arch, method=\"exact\", post_mapping_optimizations=False, swap_reduction=\"coupling_limit\"\n",
    ")\n",
    "\n",
    "qc_mapped.draw(output=\"mpl\")"
   ]
  },
  {
   "attachments": {},
   "cell_type": "markdown",
   "metadata": {},
   "source": [
    "This limits the number of SWAPs based on the selected subgraph of the architecture.\n",
    "\n",
    "Check out the [reference documentation](library/Mapping.rst) for more information."
   ]
  }
 ],
 "metadata": {
  "kernelspec": {
   "display_name": "Python 3",
   "language": "python",
   "name": "python3"
  },
  "language_info": {
   "codemirror_mode": {
    "name": "ipython",
    "version": 3
   },
   "file_extension": ".py",
   "mimetype": "text/x-python",
   "name": "python",
   "nbconvert_exporter": "python",
   "pygments_lexer": "ipython3"
  }
 },
 "nbformat": 4,
 "nbformat_minor": 0
}
