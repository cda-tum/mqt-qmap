{
 "cells": [
  {
   "cell_type": "markdown",
   "metadata": {},
   "source": [
    "# Synthesis of Clifford Circuits\n",
    "Executing quantum circuits on a quantum computer requires compilation to representations that conform to all restrictions imposed by the device.\n",
    "Due to device's limited coherence times and gate fidelity, the compilation process has to be optimized as much as possible.\n",
    "To this end, an algorithm's description first has to be *synthesized* using the device's gate library.\n",
    "In addition, circuits have to be *mapped* to the target quantum device to satisfy its connectivity constraints.\n",
    "Even though Clifford circuits form a finite subgroup of all quantum circuits -- one that is not even universal for quantum computing -- the search space for these problems grows exponentially with respect to the number of considered qubits.\n",
    "\n",
    "The *Clifford synthesis approach* in QMAP can be used to produce optimal Clifford circuits.\n",
    "To this end, it encodes the underlying task as a satisfiability (SAT) problem and solves it using the `SMT solver Z3 <https://github.com/Z3Prover/z3>`_ in conjunction with a binary search scheme.\n",
    "\n",
    "The following gives a brief overview on Clifford circuits and how QMAP can be used for their synthesis."
   ]
  },
  {
   "cell_type": "markdown",
   "metadata": {},
   "source": [
    "## Using QMAP for Optimal Synthesis\n",
    "\n",
    "*QMAP* can be used in a multitude of ways to efficiently synthesize Clifford circuits:\n",
    "\n",
    "### Starting from an initial circuit `qc`"
   ]
  },
  {
   "cell_type": "code",
   "execution_count": null,
   "metadata": {},
   "outputs": [],
   "source": [
    "from qiskit import QuantumCircuit\n",
    "from mqt import qmap\n",
    "\n",
    "qc = QuantumCircuit(2)\n",
    "qc.h(0)\n",
    "qc.cx(0, 1)\n",
    "qc.h(0)\n",
    "qc.h(1)\n",
    "\n",
    "qc_opt, results = qmap.optimize_clifford(qc)\n",
    "\n",
    "print(qc_opt.draw(fold=-1))"
   ]
  },
  {
   "cell_type": "markdown",
   "metadata": {},
   "source": [
    "### Starting from a functional description"
   ]
  },
  {
   "cell_type": "code",
   "execution_count": null,
   "metadata": {},
   "outputs": [],
   "source": [
    "from qiskit.quantum_info import StabilizerTable\n",
    "from mqt import qmap\n",
    "\n",
    "stabilizers = [\"+XX\", \"+ZZ\"]\n",
    "table = StabilizerTable.from_labels(stabilizers)\n",
    "qc_synth, results = qmap.synthesize_clifford(table)\n",
    "\n",
    "print(qc_synth.draw(fold=-1))"
   ]
  }
 ],
 "metadata": {
  "kernelspec": {
   "display_name": "Python 3.10.4 ('qmap')",
   "language": "python",
   "name": "python3"
  },
  "language_info": {
   "codemirror_mode": {
    "name": "ipython",
    "version": 3
   },
   "file_extension": ".py",
   "mimetype": "text/x-python",
   "name": "python",
   "nbconvert_exporter": "python",
   "pygments_lexer": "ipython3",
   "version": "3.10.4"
  },
  "orig_nbformat": 4,
  "vscode": {
   "interpreter": {
    "hash": "3da04071c12c78d56dc89f768ba1c7b7e39c5af59e712843e1fb8ad9493c73f6"
   }
  }
 },
 "nbformat": 4,
 "nbformat_minor": 2
}
